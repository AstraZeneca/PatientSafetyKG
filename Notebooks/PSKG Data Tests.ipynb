{
 "cells": [
  {
   "cell_type": "markdown",
   "id": "5b3553e6-718b-449b-94a6-4e1ec407b880",
   "metadata": {},
   "source": [
    "# PSKG Validation Testing\n",
    "\n",
    "The Patient Safety Knowledge Graph (PSKG) is implemented on a graph database called Neo4J, and runs in aibench.  This notebook can be used to review the results of a data load running within AI bench, or can be run from the AZ network on a laptop with ZScaler installed.\n",
    "\n",
    "Endpoint for local docker instance within AIBench\n",
    "* [http://localhost:7687] (Local instance)\n",
    "\n",
    "Test and Production Endpoints for PSKG outside of AIBench\n",
    "\n",
    "* [http://kckb075.1000-672.service.azaibenchdev.net:7474/browser/](http://kckb075.1000-672.service.azaibenchdev.net:7474/browser/) (TEST instance)\n",
    "* [http://pskg.1000-672.service.azaibenchdev.net:7474/browser/](http://kckb075.1000-672.service.azaibenchdev.net:7474/browser/) (PRODUCTION instance)\n",
    "\n",
    "as well as programatically from from Python.  This notebook is a self contained example to connect to the database, run a query, and return results.\n",
    "\n",
    "**Important**: This notebook requires the neo4j package (install using pip) as well as pandas.  The notebook should be run with lab_black to \n",
    "format Python neatly when editing (see next cell); however this is not neeeded to run the notebook."
   ]
  },
  {
   "cell_type": "code",
   "execution_count": null,
   "id": "628c2c45-17ec-47fc-861c-75b129679f9f",
   "metadata": {},
   "outputs": [],
   "source": [
    "# %load_ext lab_black"
   ]
  },
  {
   "cell_type": "code",
   "execution_count": null,
   "id": "3569490e-0a51-414d-b764-786373abc6fe",
   "metadata": {},
   "outputs": [],
   "source": [
    "import pandas as pd\n",
    "from functools import reduce\n",
    "\n",
    "# Library for accessing neo4j\n",
    "from neo4j import GraphDatabase"
   ]
  },
  {
   "cell_type": "code",
   "execution_count": null,
   "id": "66132fb7-174d-41fe-897f-182b173977f8",
   "metadata": {},
   "outputs": [],
   "source": [
    "NEO4J_USER = \"neo4j\"\n",
    "NEO4J_PW = \"pskg\"\n",
    "NEO4J_LOCAL_URI = \"neo4j://localhost:7687\"\n",
    "NEO4J_PROD_URI = \"neo4j://pskg.1000-672.service.azaibenchdev.net:7687\"\n",
    "NEO4J_TEST_URI = \"neo4j://kckb075.1000-672.service.azaibenchdev.net:7687\""
   ]
  },
  {
   "cell_type": "markdown",
   "id": "cdae334b-2b4f-4725-a8e0-509540cb54fd",
   "metadata": {},
   "source": [
    "## **IMPORTANT** Set to instance you wish to test"
   ]
  },
  {
   "cell_type": "code",
   "execution_count": null,
   "id": "2c7e3053-e1f7-4d7b-84f4-49afbdfd742b",
   "metadata": {},
   "outputs": [],
   "source": [
    "NEO4J_URI = NEO4J_PROD_URI"
   ]
  },
  {
   "cell_type": "code",
   "execution_count": null,
   "id": "a9620bb9-63c5-4298-b8ff-b8c0f1390240",
   "metadata": {},
   "outputs": [],
   "source": [
    "# this function (and other helpers for working with PSKG are available)\n",
    "def run_query(tx, query, verbose=False):\n",
    "    \"\"\"\n",
    "    Minimal query run, returns results as a dataframe\n",
    "\n",
    "    Parameters\n",
    "    ----------\n",
    "    tx: Neo4j transaction\n",
    "        Valid transaction from an active Neo4J session\n",
    "\n",
    "    query: str\n",
    "        Query to execute\n",
    "\n",
    "    Returns\n",
    "    -------\n",
    "    dataframe\n",
    "        Pandas dataframe with results\n",
    "    \"\"\"\n",
    "    try:\n",
    "        result = tx.run(query)\n",
    "    except Exception as x:\n",
    "        raise type(x)(f\"tx.run: {query}\\n\" + str(x))\n",
    "    if verbose:\n",
    "        print(\"Result columns:\", result.keys())\n",
    "    df = pd.DataFrame([r.values() for r in result], columns=result.keys())\n",
    "    info = result.consume()\n",
    "    return df, info"
   ]
  },
  {
   "cell_type": "code",
   "execution_count": null,
   "id": "7169ad65-0c4d-486a-ade4-fed0b1c36743",
   "metadata": {},
   "outputs": [],
   "source": [
    "def query_to_df(cypher, driver, db=None):\n",
    "    \"\"\"\n",
    "    Minimal wrapper to run queries designated server\n",
    "    \"\"\"\n",
    "    try:\n",
    "        with driver.session(database=db) as session:\n",
    "            result, info = session.read_transaction(run_query, cypher)\n",
    "        return result\n",
    "    except Exception as x:\n",
    "        raise type(x)(f\"read_transaction: {cyper}\\n\" + str(x))"
   ]
  },
  {
   "cell_type": "code",
   "execution_count": null,
   "id": "549c6381-6139-4a71-8d29-e461a1973974",
   "metadata": {},
   "outputs": [],
   "source": [
    "print(\"Connect to Neo4J on AI Bench\")\n",
    "aib_neo4j_driver = GraphDatabase.driver(NEO4J_URI, auth=(NEO4J_USER, NEO4J_PW))"
   ]
  },
  {
   "cell_type": "code",
   "execution_count": null,
   "id": "e2a381e0-0d4b-474c-938e-0ea08ff6fd73",
   "metadata": {},
   "outputs": [],
   "source": [
    "show_dbs_query = \"\"\"\n",
    "SHOW DATABASES YIELD * WHERE name <> 'neo4j' AND name <> 'system'\n",
    "\"\"\""
   ]
  },
  {
   "cell_type": "code",
   "execution_count": null,
   "id": "efb8b9c1-2222-4be7-8c75-ef3df52a704f",
   "metadata": {},
   "outputs": [],
   "source": [
    "# Run the \"show databases\" statement as a transaction, using default database\n",
    "db_result = query_to_df(cypher=show_dbs_query, driver=aib_neo4j_driver)"
   ]
  },
  {
   "cell_type": "code",
   "execution_count": null,
   "id": "9fae8eed-beff-44b9-8e91-1ac80ec6309c",
   "metadata": {},
   "outputs": [],
   "source": [
    "# Build list of databases names (other than system/neo4j databases)\n",
    "AVAILABLE_DBS = list(db_result[\"name\"])"
   ]
  },
  {
   "cell_type": "markdown",
   "id": "1163526e-a09c-4c70-ba2f-ba9065ddb103",
   "metadata": {},
   "source": [
    "## Connect to each database and gather information on cases"
   ]
  },
  {
   "cell_type": "code",
   "execution_count": null,
   "id": "7efafb6f-193b-4ac0-a885-99aa6ee7e9d7",
   "metadata": {},
   "outputs": [],
   "source": [
    "# Descriptives for Nodes\n",
    "node_count_query = \"\"\"\n",
    "CALL db.labels() YIELD label\n",
    "CALL apoc.cypher.run('MATCH (:`' + label + '`) RETURN count(*) AS count',{}) YIELD value\n",
    "RETURN label AS Node, value.count AS Count\n",
    "ORDER BY Count DESC\n",
    "\"\"\"\n",
    "\n",
    "relationship_count_query = \"\"\"\n",
    "CALL db.relationshipTypes() YIELD relationshipType as label\n",
    "CALL apoc.cypher.run('MATCH ()-[:`' + label + '`]->() RETURN count(*) AS count',{}) YIELD value\n",
    "RETURN label AS Relationship, value.count AS Count\n",
    "ORDER BY Count DESC\n",
    "\"\"\""
   ]
  },
  {
   "cell_type": "code",
   "execution_count": null,
   "id": "0174ac5f-fae1-445b-96b0-5bfd47bcd7fa",
   "metadata": {},
   "outputs": [],
   "source": [
    "result_node_counts = {}\n",
    "result_edge_counts = {}\n",
    "for db in AVAILABLE_DBS:\n",
    "    result_node_counts[db] = query_to_df(\n",
    "        cypher=node_count_query, driver=aib_neo4j_driver, db=db\n",
    "    )\n",
    "    result_node_counts[db].columns = [\"Node\", db]\n",
    "    result_edge_counts[db] = query_to_df(\n",
    "        cypher=relationship_count_query, driver=aib_neo4j_driver, db=db\n",
    "    )\n",
    "    result_edge_counts[db].columns = [\"Relationship\", db]"
   ]
  },
  {
   "cell_type": "code",
   "execution_count": null,
   "id": "abca53a6-5186-4376-9940-f5e3593fc0b1",
   "metadata": {},
   "outputs": [],
   "source": [
    "final_node_counts = reduce(\n",
    "    lambda left, right: pd.merge(left, right, on=[\"Node\"], how=\"outer\",),\n",
    "    list(result_node_counts.values()),\n",
    ")\n",
    "\n",
    "final_edge_counts = reduce(\n",
    "    lambda left, right: pd.merge(left, right, on=[\"Relationship\"], how=\"outer\",),\n",
    "    list(result_edge_counts.values()),\n",
    ")"
   ]
  },
  {
   "cell_type": "markdown",
   "id": "643f8018-4040-447b-a6d6-9325acc59896",
   "metadata": {},
   "source": [
    "### Node Comparisons"
   ]
  },
  {
   "cell_type": "code",
   "execution_count": null,
   "id": "7bcf4e9b-39d5-4b1c-9389-cad43581d897",
   "metadata": {},
   "outputs": [],
   "source": [
    "final_node_counts"
   ]
  },
  {
   "cell_type": "markdown",
   "id": "12c4e2f5-0259-4fd7-92d2-22751bca242e",
   "metadata": {},
   "source": [
    "### Relationship (Edge) Comparison"
   ]
  },
  {
   "cell_type": "code",
   "execution_count": null,
   "id": "0280b1a4-4778-42d2-8f7c-cc8f3c8386ca",
   "metadata": {},
   "outputs": [],
   "source": [
    "final_edge_counts"
   ]
  },
  {
   "cell_type": "code",
   "execution_count": null,
   "id": "eec367d9-e172-46c2-9ac3-818d32195ab1",
   "metadata": {},
   "outputs": [],
   "source": []
  }
 ],
 "metadata": {
  "kernelspec": {
   "display_name": "Python 3 (ipykernel)",
   "language": "python",
   "name": "python3"
  },
  "language_info": {
   "codemirror_mode": {
    "name": "ipython",
    "version": 3
   },
   "file_extension": ".py",
   "mimetype": "text/x-python",
   "name": "python",
   "nbconvert_exporter": "python",
   "pygments_lexer": "ipython3",
   "version": "3.7.11"
  }
 },
 "nbformat": 4,
 "nbformat_minor": 5
}
