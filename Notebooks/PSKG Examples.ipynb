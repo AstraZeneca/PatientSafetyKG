{
 "cells": [
  {
   "cell_type": "markdown",
   "id": "5b3553e6-718b-449b-94a6-4e1ec407b880",
   "metadata": {},
   "source": [
    "# PSKG Simple Neo4j Query Example\n",
    "\n",
    "The Patient Safety Knowledge Graph (PSKG) is implemented on a graph database called Neo4J, and runs in aibench.  The ZScalar application (available in the AZ Software Store) enables access to the PSKG directly through a browser interface:\n",
    "\n",
    "* [http://kckb075.1000-672.service.azaibenchdev.net:7474/browser/](http://kckb075.1000-672.service.azaibenchdev.net:7474/browser/) (TEST instance)\n",
    "* [http://pskg.1000-672.service.azaibenchdev.net:7474/browser/](http://kckb075.1000-672.service.azaibenchdev.net:7474/browser/) (PRODUCTION instance)\n",
    "\n",
    "as well as programatically from from Python.  This notebook is a self contained example to connect to the database, run a query, and return results.\n",
    "\n",
    "**Important**: This notebook requires the neo4j package (install using pip) as well as pandas."
   ]
  },
  {
   "cell_type": "code",
   "execution_count": null,
   "id": "628c2c45-17ec-47fc-861c-75b129679f9f",
   "metadata": {},
   "outputs": [],
   "source": [
    "%load_ext lab_black"
   ]
  },
  {
   "cell_type": "code",
   "execution_count": null,
   "id": "3569490e-0a51-414d-b764-786373abc6fe",
   "metadata": {},
   "outputs": [],
   "source": [
    "import pandas as pd\n",
    "\n",
    "# Library for accessing neo4j\n",
    "from neo4j import GraphDatabase"
   ]
  },
  {
   "cell_type": "code",
   "execution_count": null,
   "id": "66132fb7-174d-41fe-897f-182b173977f8",
   "metadata": {},
   "outputs": [],
   "source": [
    "NEO4J_USER = \"neo4j\"\n",
    "NEO4J_PW = \"pskg\"\n",
    "NEO4J_URI = \"neo4j://pskg.1000-672.service.azaibenchdev.net:7687\""
   ]
  },
  {
   "cell_type": "code",
   "execution_count": null,
   "id": "a9620bb9-63c5-4298-b8ff-b8c0f1390240",
   "metadata": {},
   "outputs": [],
   "source": [
    "# this function (and other helpers for working with PSKG are available)\n",
    "def run_query(tx, query, verbose=False):\n",
    "    \"\"\"\n",
    "    Minimal query run, returns results as a dataframe\n",
    "\n",
    "    Parameters\n",
    "    ----------\n",
    "    tx: Neo4j transaction\n",
    "        Valid transaction from an active Neo4J session\n",
    "\n",
    "    query: str\n",
    "        Query to execute\n",
    "\n",
    "    Returns\n",
    "    -------\n",
    "    dataframe\n",
    "        Pandas dataframe with results\n",
    "    \"\"\"\n",
    "    try:\n",
    "        result = tx.run(query)\n",
    "    except Exception as x:\n",
    "        raise type(x)(f\"tx.run: {query}\\n\" + str(x))\n",
    "    if verbose:\n",
    "        print(\"Result columns:\", result.keys())\n",
    "    df = pd.DataFrame([r.values() for r in result], columns=result.keys())\n",
    "    info = result.consume()\n",
    "    return df, info"
   ]
  },
  {
   "cell_type": "code",
   "execution_count": null,
   "id": "549c6381-6139-4a71-8d29-e461a1973974",
   "metadata": {},
   "outputs": [],
   "source": [
    "print(\"Connect to Neo4J on AI Bench\")\n",
    "aib_neo4j_driver = GraphDatabase.driver(NEO4J_URI, auth=(NEO4J_USER, NEO4J_PW))"
   ]
  },
  {
   "cell_type": "code",
   "execution_count": null,
   "id": "e2a381e0-0d4b-474c-938e-0ea08ff6fd73",
   "metadata": {},
   "outputs": [],
   "source": [
    "show_dbs_query = \"\"\"\n",
    "SHOW DATABASES WHERE name =~ '.*full-dev'\n",
    "\"\"\""
   ]
  },
  {
   "cell_type": "code",
   "execution_count": null,
   "id": "efb8b9c1-2222-4be7-8c75-ef3df52a704f",
   "metadata": {},
   "outputs": [],
   "source": [
    "# Run the \"show databases\" statement as a transaction, using default database\n",
    "try:\n",
    "    with aib_neo4j_driver.session() as session:\n",
    "        db_results, info = session.read_transaction(run_query, show_dbs_query)\n",
    "except Exception as x:\n",
    "    print(\"Query:\", show_dbs_query)\n",
    "    raise type(x)(f\"read_transaction: {show_dbs_query}\\n\" + str(x))\n",
    "\n",
    "print(f\"Query complete: {info}\")"
   ]
  },
  {
   "cell_type": "code",
   "execution_count": null,
   "id": "1a7e693c-2e7b-4168-9b0c-07a9bcb35599",
   "metadata": {},
   "outputs": [],
   "source": [
    "# Get the latest available database\n",
    "NEO4J_DB = db_results.iloc[-1][\"name\"]\n",
    "print(f\"Using latest PSKG database: {NEO4J_DB}\")"
   ]
  },
  {
   "cell_type": "code",
   "execution_count": null,
   "id": "5a2983d2-0e51-4067-9f16-bc3938662808",
   "metadata": {},
   "outputs": [],
   "source": [
    "# EUDRAVIGILANCE cases receiving more than one covid vaccine, identify all administered vaccines\n",
    "sample_query = \"\"\"\n",
    "MATCH (c:Case {DataSource:'EUDRAVIGILANCE'})-[:ADMINISTERED]->(v:Vaccine {VaxType:'COVID19'}) \n",
    "WITH c,COUNT(v) as vaccinations \n",
    "MATCH (c)-[av:ADMINISTERED] -> (v2:Vaccine) \n",
    "WHERE vaccinations > 1 RETURN c.CaseId as CaseId, c.ReceivedDate as Received, av.Characterization AS Characterization, v2.GenericName AS GenericName\n",
    "ORDER BY vaccinations DESC, c.CaseId \n",
    "LIMIT 50\n",
    "\"\"\""
   ]
  },
  {
   "cell_type": "code",
   "execution_count": null,
   "id": "c5596df1-79ff-420a-b0b2-7a2b74f05622",
   "metadata": {},
   "outputs": [],
   "source": [
    "# Run the query as a transaction,\n",
    "try:\n",
    "    with aib_neo4j_driver.session(database=NEO4J_DB) as session:\n",
    "        result, info = session.read_transaction(run_query, sample_query)\n",
    "except Exception as x:\n",
    "    print(\"Query:\", sample_query)\n",
    "    raise type(x)(f\"read_transaction: {sample_query}\\n\" + str(x))\n",
    "\n",
    "print(f\"Query complete: {info}\")"
   ]
  },
  {
   "cell_type": "code",
   "execution_count": null,
   "id": "6c35b2d0-7469-4761-a4c7-baf24ea87812",
   "metadata": {},
   "outputs": [],
   "source": [
    "result"
   ]
  },
  {
   "cell_type": "code",
   "execution_count": null,
   "id": "eec367d9-e172-46c2-9ac3-818d32195ab1",
   "metadata": {},
   "outputs": [],
   "source": []
  }
 ],
 "metadata": {
  "kernelspec": {
   "display_name": "Python 3 (ipykernel)",
   "language": "python",
   "name": "python3"
  },
  "language_info": {
   "codemirror_mode": {
    "name": "ipython",
    "version": 3
   },
   "file_extension": ".py",
   "mimetype": "text/x-python",
   "name": "python",
   "nbconvert_exporter": "python",
   "pygments_lexer": "ipython3",
   "version": "3.7.11"
  }
 },
 "nbformat": 4,
 "nbformat_minor": 5
}
