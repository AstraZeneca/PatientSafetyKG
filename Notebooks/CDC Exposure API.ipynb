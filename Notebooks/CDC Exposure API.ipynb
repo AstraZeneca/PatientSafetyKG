{
 "cells": [
  {
   "cell_type": "code",
   "execution_count": null,
   "id": "5e7b8848-580c-4f46-b11b-149bd98eea89",
   "metadata": {},
   "outputs": [],
   "source": [
    "%load_ext lab_black"
   ]
  },
  {
   "cell_type": "markdown",
   "id": "64992418-9ba9-484c-839f-052e53ef634c",
   "metadata": {},
   "source": [
    "## CDC API notebook\n",
    "\n",
    "The vaers_monitoring code is being retired.  "
   ]
  },
  {
   "cell_type": "code",
   "execution_count": null,
   "id": "aaee502d-f90b-4fda-a3c4-f6afd06edc93",
   "metadata": {},
   "outputs": [],
   "source": [
    "# imports\n",
    "import pandas as pd\n",
    "import datetime as dt\n",
    "from sodapy import Socrata\n",
    "from pathlib import Path"
   ]
  },
  {
   "cell_type": "code",
   "execution_count": null,
   "id": "b7b9bd3c-be60-4594-90f4-46e2c552c511",
   "metadata": {},
   "outputs": [],
   "source": [
    "pd.set_option(\"display.max_colwidth\", None)\n",
    "pd.set_option(\"display.max_rows\", 100)\n",
    "pd.set_option(\"display.max_columns\", 100)"
   ]
  },
  {
   "cell_type": "code",
   "execution_count": null,
   "id": "b9f5f888-a6a3-4057-b019-17c16307a7ff",
   "metadata": {},
   "outputs": [],
   "source": [
    "CDC_SERVER = \"data.cdc.gov\"\n",
    "#Obtain CDC Credentials to provide values for the following Variables\n",
    "CDC_ADMIN_DATA = \"\" \n",
    "CDC_APP_KEY = \"\"\n",
    "\n",
    "PROJECT_ROOT = Path(\"..\")\n",
    "EXPOSURE_CSV = PROJECT_ROOT / \"AnalysisOutput\" / \"CovidVaccineAdmin_API.csv\"\n",
    "US_AGE_EXPOSURE_CSV = PROJECT_ROOT / \"AnalysisOutput\" / \"USAgeBasedAdmin.csv\"\n",
    "\n",
    "FINAL_COLUMNS = [\n",
    "    \"Vaccine\",\n",
    "    \"VAX_NAME\",\n",
    "    \"Total_Administered\",\n",
    "    \"Datetime\",\n",
    "    \"Posted\",\n",
    "    \"Updated_Raw\",\n",
    "    \"URL\",\n",
    "]"
   ]
  },
  {
   "cell_type": "code",
   "execution_count": null,
   "id": "dffdf47f-b0d3-431d-92c5-ebb67d450849",
   "metadata": {},
   "outputs": [],
   "source": [
    "client = Socrata(CDC_SERVER, CDC_APP_KEY)"
   ]
  },
  {
   "cell_type": "code",
   "execution_count": null,
   "id": "b9de58dc-b385-4b37-8bff-83fa498680f4",
   "metadata": {},
   "outputs": [],
   "source": [
    "offset = 0\n",
    "limit = 1000\n",
    "delta = 1000\n",
    "done = False\n",
    "results = []\n",
    "while not done:\n",
    "    result_list = client.get(CDC_ADMIN_DATA, offset=offset, limit=limit)\n",
    "    print(f\"Current offset: {offset}, {len(result_list)} rows returned.\")\n",
    "    if not result_list:\n",
    "        done = True\n",
    "    elif len(result_list) < limit:\n",
    "        results.extend(result_list)\n",
    "        done = True\n",
    "    else:\n",
    "        results.extend(result_list)\n",
    "        offset += delta"
   ]
  },
  {
   "cell_type": "code",
   "execution_count": null,
   "id": "74d5409b-8c63-4017-88f6-1056090870d6",
   "metadata": {},
   "outputs": [],
   "source": [
    "clean_results = []\n",
    "for r in results:\n",
    "    clean_d = {}\n",
    "    for k, v in r.items():\n",
    "        if k == \"date\":\n",
    "            clean_d[\"date\"] = dt.datetime.strptime(v, \"%Y-%m-%dT%H:%M:%S.%f\")\n",
    "        elif k == \"location\":\n",
    "            clean_d[k] = v\n",
    "        else:\n",
    "            try:\n",
    "                clean_d[k] = float(v)\n",
    "            except:\n",
    "                clean_d[k] = v\n",
    "    clean_results.append(clean_d)"
   ]
  },
  {
   "cell_type": "code",
   "execution_count": null,
   "id": "172f530c-408a-441a-bc01-f8719d672e79",
   "metadata": {},
   "outputs": [],
   "source": [
    "exposure_df = pd.DataFrame.from_records(clean_results)"
   ]
  },
  {
   "cell_type": "code",
   "execution_count": null,
   "id": "5019784c-11ee-4cbe-875d-cef32efc8b2f",
   "metadata": {},
   "outputs": [],
   "source": [
    "print(f'Date Range: {exposure_df[\"date\"].min()} - {exposure_df[\"date\"].max()}')"
   ]
  },
  {
   "cell_type": "code",
   "execution_count": null,
   "id": "d031dfc2-6a7c-428f-b209-d38138eb94c4",
   "metadata": {},
   "outputs": [],
   "source": [
    "covid_vax_admin = exposure_df.loc[\n",
    "    (exposure_df[\"location\"] == \"US\"),\n",
    "    [\n",
    "        \"date\",\n",
    "        \"administered_pfizer\",\n",
    "        \"administered_moderna\",\n",
    "        \"administered_janssen\",\n",
    "        \"administered_unk_manuf\",\n",
    "    ],\n",
    "].copy()"
   ]
  },
  {
   "cell_type": "code",
   "execution_count": null,
   "id": "823b15a8-3b3e-469d-aa86-f616bef144dc",
   "metadata": {},
   "outputs": [],
   "source": [
    "vaccine_map = {\n",
    "    \"date\": \"Datetime\",\n",
    "    \"administered_pfizer\": \"Pfizer-BioNTech\",\n",
    "    \"administered_moderna\": \"Moderna\",\n",
    "    \"administered_janssen\": \"Janssen\",\n",
    "    \"administered_unk_manuf\": \"Not Identified\",\n",
    "}\n",
    "cdc_vax_name_map = {\n",
    "    \"Pfizer-BioNTech\": \"COVID19 (COVID19 (PFIZER-BIONTECH))\",\n",
    "    \"Moderna\": \"COVID19 (COVID19 (MODERNA))\",\n",
    "    \"Janssen\": \"COVID19 (COVID19 (JANSSEN))\",\n",
    "    \"Not Identified\": \"COVID19 (COVID19 (UNKNOWN))\",\n",
    "}"
   ]
  },
  {
   "cell_type": "code",
   "execution_count": null,
   "id": "ad55f18b-e414-43e2-a06a-9b07fb531e87",
   "metadata": {},
   "outputs": [],
   "source": [
    "covid_vax_admin.columns = [vaccine_map.get(c) or c for c in covid_vax_admin.columns]"
   ]
  },
  {
   "cell_type": "code",
   "execution_count": null,
   "id": "c6e531f4-8f9d-4df0-9379-d91a59d015eb",
   "metadata": {},
   "outputs": [],
   "source": [
    "covid_vax_admin_pivot = (\n",
    "    covid_vax_admin.melt(\n",
    "        id_vars=\"Datetime\", var_name=\"Vaccine\", value_name=\"Total_Administered\"\n",
    "    )\n",
    "    .sort_values([\"Datetime\", \"Vaccine\"], ascending=[True, True])\n",
    "    .reset_index()\n",
    ")"
   ]
  },
  {
   "cell_type": "code",
   "execution_count": null,
   "id": "23a31050-48a4-4405-a9c6-5ae4d069f7cd",
   "metadata": {},
   "outputs": [],
   "source": [
    "covid_vax_admin_pivot[\"VAX_NAME\"] = covid_vax_admin_pivot[\"Vaccine\"].map(\n",
    "    cdc_vax_name_map\n",
    ")\n",
    "covid_vax_admin_pivot[\"Posted\"] = covid_vax_admin_pivot[\"Datetime\"]\n",
    "covid_vax_admin_pivot[\"Updated_Raw\"] = covid_vax_admin_pivot[\"Datetime\"].apply(\n",
    "    lambda d: f\"CDC API|Data as of: {d.strftime('%b %d %Y %H:%M%p ET')}\"\n",
    ")\n",
    "covid_vax_admin_pivot[\"URL\"] = f\"https://{CDC_SERVER}/{CDC_ADMIN_DATA}\""
   ]
  },
  {
   "cell_type": "code",
   "execution_count": null,
   "id": "3fba2bb1-ea0f-43d1-a0c5-162deecf2ac2",
   "metadata": {},
   "outputs": [],
   "source": [
    "covid_vax_admin_pivot[FINAL_COLUMNS].tail()"
   ]
  },
  {
   "cell_type": "code",
   "execution_count": null,
   "id": "d23fd4a5-13ba-4912-bfa3-dedbaff8da55",
   "metadata": {},
   "outputs": [],
   "source": [
    "print(\"Saving CDC Exposure Data to:\", EXPOSURE_CSV.resolve())\n",
    "covid_vax_admin_pivot[FINAL_COLUMNS].to_csv(EXPOSURE_CSV, index=False)"
   ]
  },
  {
   "cell_type": "markdown",
   "id": "ff27a402-ab4c-4bd8-9085-45a67b43b2cd",
   "metadata": {},
   "source": [
    "### Exploratory Work"
   ]
  },
  {
   "cell_type": "code",
   "execution_count": null,
   "id": "1027b9a0-b340-4a55-af7e-1c92f6e56b2a",
   "metadata": {},
   "outputs": [],
   "source": [
    "exposure_df.loc[\n",
    "    (exposure_df[\"location\"] == \"US\"),\n",
    "    [\n",
    "        \"date\",\n",
    "        \"location\",\n",
    "        \"administered\",\n",
    "        \"administered_12plus\",\n",
    "        \"administered_18plus\",\n",
    "        \"administered_65plus\",\n",
    "    ],\n",
    "]"
   ]
  },
  {
   "cell_type": "code",
   "execution_count": null,
   "id": "08f639d1-d8e6-4498-acde-6fe79819f0e8",
   "metadata": {},
   "outputs": [],
   "source": [
    "# Calculate Youth (0-17) administration\n",
    "exposure_df[\"administered_under18\"] = exposure_df.apply(\n",
    "    lambda c: c[\"administered\"] - c[\"administered_18plus\"]\n",
    "    if c[\"administered_18plus\"] > 0\n",
    "    else 0,\n",
    "    axis=1,\n",
    ")"
   ]
  },
  {
   "cell_type": "code",
   "execution_count": null,
   "id": "8e5fb851-d915-4f0a-9ef8-9cd79463a039",
   "metadata": {},
   "outputs": [],
   "source": [
    "exposure_df[\"us_youth_population\"] = 72822113.0"
   ]
  },
  {
   "cell_type": "code",
   "execution_count": null,
   "id": "e0e8b49e-1e67-49e0-8af3-bbb9156608c3",
   "metadata": {},
   "outputs": [],
   "source": [
    "exposure_df[\"us_youth_uptake\"] = (\n",
    "    exposure_df[\"administered_under18\"] / exposure_df[\"us_youth_population\"]\n",
    ")"
   ]
  },
  {
   "cell_type": "code",
   "execution_count": null,
   "id": "be15d2b1-ac6c-4adc-9b79-5007dd71ee43",
   "metadata": {},
   "outputs": [],
   "source": [
    "exposure_df.loc[\n",
    "    (exposure_df[\"location\"] == \"US\"),\n",
    "    [\n",
    "        \"date\",\n",
    "        \"location\",\n",
    "        \"administered\",\n",
    "        \"administered_12plus\",\n",
    "        \"administered_18plus\",\n",
    "        \"administered_65plus\",\n",
    "        \"us_youth_population\",\n",
    "        \"administered_under18\",\n",
    "        \"us_youth_population\",\n",
    "        \"us_youth_uptake\",\n",
    "    ],\n",
    "].head().to_clipboard()"
   ]
  },
  {
   "cell_type": "code",
   "execution_count": null,
   "id": "4b0fc2c7-68ec-4203-bb73-d9ac3d73b5a2",
   "metadata": {},
   "outputs": [],
   "source": [
    "print(\"Saving Age Based CDC Exposure Data to:\", US_AGE_EXPOSURE_CSV.resolve())\n",
    "exposure_df.to_csv(US_AGE_EXPOSURE_CSV, index=False)"
   ]
  },
  {
   "cell_type": "code",
   "execution_count": null,
   "id": "9b498f82-abdc-4ae3-bf19-f4743ca858f4",
   "metadata": {},
   "outputs": [],
   "source": [
    "exposure_df.columns"
   ]
  },
  {
   "cell_type": "code",
   "execution_count": null,
   "id": "3c470c70-8903-4e71-91a3-55f2c64d8d94",
   "metadata": {},
   "outputs": [],
   "source": [
    "# ecdc_exposure =  pd.read_csv(\"https://opendata.ecdc.europa.eu/covid19/nationalcasedeath_eueea_daily_ei/csv\", na_values = \"\", encoding = \"utf_8\")\n",
    "ecdc_exposure = pd.read_csv(\n",
    "    \"https://opendata.ecdc.europa.eu/covid19/vaccine_tracker/csv/data.csv\",\n",
    "    na_values=\"\",\n",
    "    encoding=\"utf_8\",\n",
    ")"
   ]
  },
  {
   "cell_type": "code",
   "execution_count": null,
   "id": "1fed4659-b92f-4702-a469-d34ce98c0a0c",
   "metadata": {},
   "outputs": [],
   "source": [
    "ecdc_exposure.head"
   ]
  },
  {
   "cell_type": "code",
   "execution_count": null,
   "id": "a6a70624-a46c-4952-bec4-55194c699592",
   "metadata": {},
   "outputs": [],
   "source": []
  }
 ],
 "metadata": {
  "kernelspec": {
   "display_name": "Python 3",
   "language": "python",
   "name": "python3"
  },
  "language_info": {
   "codemirror_mode": {
    "name": "ipython",
    "version": 3
   },
   "file_extension": ".py",
   "mimetype": "text/x-python",
   "name": "python",
   "nbconvert_exporter": "python",
   "pygments_lexer": "ipython3",
   "version": "3.7.10"
  }
 },
 "nbformat": 4,
 "nbformat_minor": 5
}
